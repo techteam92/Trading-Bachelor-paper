{
 "cells": [
  {
   "cell_type": "code",
   "execution_count": 1,
   "metadata": {},
   "outputs": [],
   "source": [
    "import numpy as np\n",
    "import pandas as pd\n",
    "import matplotlib.pyplot as plt\n",
    "import ga\n",
    "from tradingrule import *"
   ]
  },
  {
   "cell_type": "markdown",
   "metadata": {},
   "source": [
    "### Data preprocessing"
   ]
  },
  {
   "cell_type": "code",
   "execution_count": 2,
   "metadata": {},
   "outputs": [
    {
     "data": {
      "text/html": [
       "<div>\n",
       "<style scoped>\n",
       "    .dataframe tbody tr th:only-of-type {\n",
       "        vertical-align: middle;\n",
       "    }\n",
       "\n",
       "    .dataframe tbody tr th {\n",
       "        vertical-align: top;\n",
       "    }\n",
       "\n",
       "    .dataframe thead th {\n",
       "        text-align: right;\n",
       "    }\n",
       "</style>\n",
       "<table border=\"1\" class=\"dataframe\">\n",
       "  <thead>\n",
       "    <tr style=\"text-align: right;\">\n",
       "      <th></th>\n",
       "      <th>Open</th>\n",
       "      <th>High</th>\n",
       "      <th>Low</th>\n",
       "      <th>Close</th>\n",
       "    </tr>\n",
       "  </thead>\n",
       "  <tbody>\n",
       "    <tr>\n",
       "      <th>0</th>\n",
       "      <td>0.70613</td>\n",
       "      <td>0.70613</td>\n",
       "      <td>0.70575</td>\n",
       "      <td>0.70575</td>\n",
       "    </tr>\n",
       "    <tr>\n",
       "      <th>1</th>\n",
       "      <td>0.70575</td>\n",
       "      <td>0.70579</td>\n",
       "      <td>0.70568</td>\n",
       "      <td>0.70579</td>\n",
       "    </tr>\n",
       "    <tr>\n",
       "      <th>2</th>\n",
       "      <td>0.70579</td>\n",
       "      <td>0.70598</td>\n",
       "      <td>0.70578</td>\n",
       "      <td>0.70595</td>\n",
       "    </tr>\n",
       "    <tr>\n",
       "      <th>3</th>\n",
       "      <td>0.70596</td>\n",
       "      <td>0.70618</td>\n",
       "      <td>0.70594</td>\n",
       "      <td>0.70618</td>\n",
       "    </tr>\n",
       "    <tr>\n",
       "      <th>4</th>\n",
       "      <td>0.70618</td>\n",
       "      <td>0.70628</td>\n",
       "      <td>0.70593</td>\n",
       "      <td>0.70595</td>\n",
       "    </tr>\n",
       "  </tbody>\n",
       "</table>\n",
       "</div>"
      ],
      "text/plain": [
       "      Open     High      Low    Close\n",
       "0  0.70613  0.70613  0.70575  0.70575\n",
       "1  0.70575  0.70579  0.70568  0.70579\n",
       "2  0.70579  0.70598  0.70578  0.70595\n",
       "3  0.70596  0.70618  0.70594  0.70618\n",
       "4  0.70618  0.70628  0.70593  0.70595"
      ]
     },
     "execution_count": 2,
     "metadata": {},
     "output_type": "execute_result"
    }
   ],
   "source": [
    "data = pd.read_csv(\"data/AUDUSD_M5.csv\")\n",
    "data = data[['Open', 'High', 'Low', 'Close']]\n",
    "data.head()"
   ]
  },
  {
   "cell_type": "code",
   "execution_count": 3,
   "metadata": {},
   "outputs": [],
   "source": [
    "X_train = data.loc[:len(data)//2]\n",
    "X_test = data.loc[len(data)//2:]"
   ]
  },
  {
   "cell_type": "code",
   "execution_count": 4,
   "metadata": {},
   "outputs": [
    {
     "name": "stdout",
     "output_type": "stream",
     "text": [
      "Training Rule1 score is: 0.427\n",
      "Training Rule2 score is: 0.418\n",
      "Training Rule3 score is: 0.451\n",
      "Training Rule4 score is: 0.418\n",
      "Training Rule5 score is: 0.394\n",
      "Training Rule6 score is: 0.438\n",
      "Training Rule7 score is: 0.453\n",
      "Training Rule8 score is: 0.371\n",
      "Training Rule9 score is: 0.454\n",
      "Training Rule10 score is: 0.461\n",
      "Training Rule11 score is: 0.372\n",
      "Training Rule12 score is: 0.458\n",
      "Training Rule13 score is: 0.368\n",
      "Training Rule14 score is: 0.241\n",
      "Training Rule15 score is: 0.173\n",
      "Training Rule16 score is: 0.119\n"
     ]
    }
   ],
   "source": [
    "trading_rule_params = trainTradingRuleFeatures(X_train)"
   ]
  },
  {
   "cell_type": "code",
   "execution_count": 6,
   "metadata": {},
   "outputs": [],
   "source": [
    "X_trading_rule_train = getTradingRuleFeatures(X_train, trading_rule_params)\n",
    "X_trading_rule_test = getTradingRuleFeatures(X_test, trading_rule_params)"
   ]
  },
  {
   "cell_type": "markdown",
   "metadata": {},
   "source": [
    "### Genetic Algorithm to Find the Optimal Combination of Rules"
   ]
  },
  {
   "cell_type": "code",
   "execution_count": 18,
   "metadata": {},
   "outputs": [],
   "source": [
    "def evaluate(position, logr):\n",
    "    port_r = logr*position\n",
    "    score = port_r.sum()\n",
    "    print(\"The maximum position is {:.3f}, the mean postiion is {:3f}.\".format(position.max(), abs(position).mean()))\n",
    "    print(\"The return over the period is: {:.2f}%\".format(score*100))\n",
    "    print(\"Maximum drawdown is: {:.3f}%\".format(min(port_r.cumsum())*100))\n",
    "    sr_train = port_r.mean()/port_r.std()\n",
    "    print(\"SR ratio is: {:.3f}\".format(sr_train*(252*24*12)**0.5))"
   ]
  },
  {
   "cell_type": "code",
   "execution_count": 11,
   "metadata": {},
   "outputs": [
    {
     "data": {
      "image/png": "[encoded data removed]",
      "text/plain": [
       "<Figure size 432x288 with 1 Axes>"
      ]
     },
     "metadata": {
      "needs_background": "light"
     },
     "output_type": "display_data"
    }
   ],
   "source": [
    "max_SSR_weights = GA_train(X_trading_rule_train, optimizing_selection=2, sol_per_pop=10, num_parents_mating=6, num_generations = 200)"
   ]
  },
  {
   "cell_type": "code",
   "execution_count": 19,
   "metadata": {},
   "outputs": [
    {
     "name": "stdout",
     "output_type": "stream",
     "text": [
      "Training data evaluation:\n",
      "The maximum position is 0.704, the mean postiion is 0.462286.\n",
      "The return over the period is: 20.50%\n",
      "Maximum drawdown is: -0.782%\n",
      "SR ratio is: 8.715\n"
     ]
    }
   ],
   "source": [
    "position = (X_trading_rule_train.values[:, 1:]@max_SSR_weights.T).reshape(X_trading_rule_train.shape[0],)\n",
    "position /= np.max(abs(position))\n",
    "print('Training data evaluation:')\n",
    "evaluate(position, X_trading_rule_train.logr)\n",
    "port_r_train = X_trading_rule_train.logr*position"
   ]
  },
  {
   "cell_type": "code",
   "execution_count": 20,
   "metadata": {},
   "outputs": [
    {
     "name": "stdout",
     "output_type": "stream",
     "text": [
      "Testing data evaluation:\n",
      "The maximum position is 0.970, the mean postiion is 0.416523.\n",
      "The return over the period is: 12.72%\n",
      "Maximum drawdown is: -0.095%\n",
      "SR ratio is: 6.134\n"
     ]
    }
   ],
   "source": [
    "position = (X_trading_rule_test.values[:, 1:]@max_SSR_weights.T).reshape(X_trading_rule_test.shape[0],)\n",
    "position /= np.max(abs(position))\n",
    "print('Testing data evaluation:')\n",
    "evaluate(position, X_trading_rule_test.logr)\n",
    "port_r_test = X_trading_rule_test.logr*position"
   ]
  },
  {
   "cell_type": "code",
   "execution_count": 21,
   "metadata": {
    "scrolled": true
   },
   "outputs": [
    {
     "data": {
      "image/png": "[encoded data removed]",
      "text/plain": [
       "<Figure size 432x288 with 1 Axes>"
      ]
     },
     "metadata": {
      "needs_background": "light"
     },
     "output_type": "display_data"
    }
   ],
   "source": [
    "plt.plot(range(len(port_r_train)), port_r_train.cumsum(), label='training')\n",
    "plt.plot(range(len(port_r_test)), port_r_test.cumsum(), label='testing')\n",
    "plt.xlabel('Timesteps')\n",
    "plt.ylabel('Accumulated return')\n",
    "plt.legend()\n",
    "plt.show()"
   ]
  }
 ],
 "metadata": {
  "kernelspec": {
   "display_name": "Python 3",
   "language": "python",
   "name": "python3"
  },
  "language_info": {
   "codemirror_mode": {
    "name": "ipython",
    "version": 3
   },
   "file_extension": ".py",
   "mimetype": "text/x-python",
   "name": "python",
   "nbconvert_exporter": "python",
   "pygments_lexer": "ipython3",
   "version": "3.7.4"
  }
 },
 "nbformat": 4,
 "nbformat_minor": 2
}
