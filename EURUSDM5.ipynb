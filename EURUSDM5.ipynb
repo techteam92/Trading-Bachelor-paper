{
 "cells": [
  {
   "cell_type": "code",
   "execution_count": 1,
   "metadata": {},
   "outputs": [],
   "source": [
    "import numpy as np\n",
    "import pandas as pd\n",
    "import csv\n",
    "# from ta import *\n",
    "import matplotlib.pyplot as plt\n",
    "\n",
    "from IPython.core.interactiveshell import InteractiveShell\n",
    "InteractiveShell.ast_node_interactivity = \"all\"\n",
    "import warnings\n",
    "warnings.filterwarnings('ignore')\n",
    "import ga\n",
    "from utils import *"
   ]
  },
  {
   "cell_type": "code",
   "execution_count": 2,
   "metadata": {},
   "outputs": [],
   "source": [
    "def count_trade_no(signal):\n",
    "    no_trades = 0\n",
    "    prev = 10\n",
    "    for i in signal:\n",
    "        if i != prev and prev != 0:\n",
    "            prev = i\n",
    "            no_trades += 1\n",
    "    return no_trades\n",
    "\n",
    "def ema(series, n):\n",
    "    return series.ewm(span=n, min_periods=n).mean()\n",
    "\n",
    "def ma(close, n):\n",
    "    return close.rolling(n).mean()\n",
    "    \n",
    "def DEMA(close, n):\n",
    "    EMA = ema(close, n)\n",
    "    return 2*EMA - ema(EMA,n)\n",
    "\n",
    "def TEMA(close, n):\n",
    "    EMA = ema(close, n)\n",
    "    EEMA = ema(EMA, n)\n",
    "    return 3*EMA - 3*EEMA + ema(EEMA, n)\n",
    "\n",
    "def rsi(close, n=14):\n",
    "    diff = close.diff(1)\n",
    "    which_dn = diff < 0\n",
    "    up, dn = diff, diff*0\n",
    "    up[which_dn], dn[which_dn] = 0, -up[which_dn]\n",
    "    emaup = ema(up, n)\n",
    "    emadn = ema(dn, n)\n",
    "    rsi = 100 * emaup / (emaup + emadn)\n",
    "    return pd.Series(rsi, name='rsi')\n",
    "\n",
    "def stoch(high, low, close, n=14, fillna=False):\n",
    "    smin = low.rolling(n, min_periods=0).min()\n",
    "    smax = high.rolling(n, min_periods=0).max()\n",
    "    stoch_k = 100 * (close - smin) / (smax - smin)\n",
    "    return pd.Series(stoch_k, name='stoch_k')\n",
    "\n",
    "def stoch_signal(high, low, close, n=14, d_n=3, fillna=False):\n",
    "    stoch_k = stoch(high, low, close, n, fillna=fillna)\n",
    "    stoch_d = stoch_k.rolling(d_n, min_periods=0).mean()\n",
    "\n",
    "    if fillna:\n",
    "        stoch_d = stoch_d.replace([np.inf, -np.inf], np.nan).fillna(50)\n",
    "    return pd.Series(stoch_d, name='stoch_d')\n",
    "\n",
    "def average_true_range(high, low, close, n=14, fillna=False):\n",
    "    cs = close.shift(1)\n",
    "    tr = high.combine(cs, max) - low.combine(cs, min)\n",
    "\n",
    "    atr = np.zeros(len(close))\n",
    "    atr[0] = tr[1::].mean()\n",
    "    for i in range(1, len(atr)):\n",
    "        atr[i] = (atr[i-1] * (n-1) + tr.iloc[i]) / float(n)\n",
    "\n",
    "    atr = pd.Series(data=atr, index=tr.index)\n",
    "    return pd.Series(atr, name='atr')\n",
    "\n",
    "def vortex_indicator_pos(high, low, close, n=14, fillna=False):\n",
    "    tr = (high.combine(close.shift(1), max)\n",
    "          - low.combine(close.shift(1), min))\n",
    "    trn = tr.rolling(n).sum()\n",
    "\n",
    "    vmp = np.abs(high - low.shift(1))\n",
    "    vmm = np.abs(low - high.shift(1))\n",
    "\n",
    "    vip = vmp.rolling(n, min_periods=0).sum() / trn\n",
    "    if fillna:\n",
    "        vip = vip.replace([np.inf, -np.inf], np.nan).fillna(1)\n",
    "    return pd.Series(vip, name='vip')\n",
    "\n",
    "\n",
    "def vortex_indicator_neg(high, low, close, n=14, fillna=False):\n",
    "    tr = high.combine(close.shift(1), max) - low.combine(close.shift(1), min)\n",
    "    trn = tr.rolling(n).sum()\n",
    "\n",
    "    vmp = np.abs(high - low.shift(1))\n",
    "    vmm = np.abs(low - high.shift(1))\n",
    "\n",
    "    vin = vmm.rolling(n).sum() / trn\n",
    "    if fillna:\n",
    "        vin = vin.replace([np.inf, -np.inf], np.nan).fillna(1)\n",
    "    return pd.Series(vin, name='vin')\n",
    "\n",
    "def cci(high, low, close, n=20, c=0.015):\n",
    "    pp = (high + low + close) / 3.0\n",
    "    cci = (pp - pp.rolling(n, min_periods=0).mean()) / (c * pp.rolling(n, min_periods=0).std())\n",
    "    return pd.Series(cci, name='cci')\n",
    "\n",
    "def bollinger_mavg(close, n=20, fillna=False):\n",
    "    mavg = close.rolling(n, min_periods=0).mean()\n",
    "    if fillna:\n",
    "        mavg = mavg.replace(\n",
    "            [np.inf, -np.inf], np.nan).fillna(method='backfill')\n",
    "    return pd.Series(mavg, name='mavg')\n",
    "\n",
    "def bollinger_hband(close, n=20, ndev=2, fillna=False):\n",
    "    mavg = close.rolling(n, min_periods=0).mean()\n",
    "    mstd = close.rolling(n, min_periods=0).std()\n",
    "    hband = mavg + ndev*mstd\n",
    "    return pd.Series(hband, name='hband')\n",
    "\n",
    "def bollinger_lband(close, n=20, ndev=2, fillna=False):\n",
    "    mavg = close.rolling(n, min_periods=0).mean()\n",
    "    mstd = close.rolling(n, min_periods=0).std()\n",
    "    lband = mavg - ndev * mstd\n",
    "    return pd.Series(lband, name='lband')\n",
    "\n",
    "def keltner_channel_hband(high, low, close, n=10, fillna=False):\n",
    "    tp = ((4 * high) - (2 * low) + close) / 3.0\n",
    "    tp = tp.rolling(n, min_periods=0).mean()\n",
    "    if fillna:\n",
    "        tp = tp.replace([np.inf, -np.inf], np.nan).fillna(method='backfill')\n",
    "    return pd.Series(tp, name='kc_hband')\n",
    "\n",
    "def keltner_channel_lband(high, low, close, n=10):\n",
    "    tp = ((-2 * high) + (4 * low) + close) / 3.0\n",
    "    tp = tp.rolling(n, min_periods=0).mean()\n",
    "    return pd.Series(tp, name='kc_lband')\n",
    "\n",
    "def donchian_channel_hband(close, n=20, fillna=False):\n",
    "    hband = close.rolling(n, min_periods=0).max()\n",
    "    if fillna:\n",
    "        hband = hband.replace(\n",
    "            [np.inf, -np.inf], np.nan).fillna(method='backfill')\n",
    "    return pd.Series(hband, name='dchband')\n",
    "\n",
    "\n",
    "def donchian_channel_lband(close, n=20, fillna=False):\n",
    "    lband = close.rolling(n, min_periods=0).min()\n",
    "    if fillna:\n",
    "        lband = lband.replace(\n",
    "            [np.inf, -np.inf], np.nan).fillna(method='backfill')\n",
    "    return pd.Series(lband, name='dclband')\n",
    "\n",
    "\n",
    "def ichimoku_a(high, low, n1=9, n2=26, visual=False, fillna=False):\n",
    "    conv = 0.5 * (high.rolling(n1, min_periods=0).max() + low.rolling(n1, min_periods=0).min())\n",
    "    base = 0.5 * (high.rolling(n2, min_periods=0).max() + low.rolling(n2, min_periods=0).min())\n",
    "\n",
    "    spana = 0.5 * (conv + base)\n",
    "\n",
    "    if visual:\n",
    "        spana = spana.shift(n2)\n",
    "\n",
    "    if fillna:\n",
    "        spana = spana.replace([np.inf, -np.inf], np.nan).fillna(method='backfill')\n",
    "\n",
    "    return pd.Series(spana, name='ichimoku_a_'+str(n2))\n",
    "\n",
    "\n",
    "def ichimoku_b(high, low, n2=26, n3=52, visual=False, fillna=False):\n",
    "    spanb = 0.5 * (high.rolling(n3, min_periods=0).max() + low.rolling(n3, min_periods=0).min())\n",
    "\n",
    "    if visual:\n",
    "        spanb = spanb.shift(n2)\n",
    "\n",
    "    if fillna:\n",
    "        spanb = spanb.replace([np.inf, -np.inf], np.nan).fillna(method='backfill')\n",
    "\n",
    "    return pd.Series(spanb, name='ichimoku_b_'+str(n2))\n",
    "\n",
    "\n",
    "\n",
    "# Type 1 Rules:\n",
    "# > ma with ma\n",
    "# > ema with ma\n",
    "# > ema with ema\n",
    "# > dema with ma\n",
    "# > deme with dema\n",
    "# > tema with tema\n",
    "# > tema with ma\n",
    "\n",
    "def Rule1(param):\n",
    "    # Rule 1: Simple Moving Average Crossover\n",
    "    # Input: Close prices, MA periods 1 and 2\n",
    "    # Return: training periods accumulated returns\n",
    "    ma1, ma2 = param\n",
    "    s1 = close.rolling(ma1).mean()\n",
    "    s2 = close.rolling(ma2).mean()\n",
    "    signal = 2*(s1<s2).shift(1)-1\n",
    "    port_logr = signal*logr\n",
    "    return (abs(port_logr.sum()), signal)\n",
    "\n",
    "def Rule2(param):\n",
    "    # Rule 2: EMA and close\n",
    "    # Input: Close prices, EMA periods 1 and 2\n",
    "    # Return: training periods accumulated returns\n",
    "    ema1, ma2 = param\n",
    "    s1 = ema(close, ema1)\n",
    "    s2 = close.rolling(ma2).mean()\n",
    "    signal = 2*(s1<s2).shift(1)-1\n",
    "    port_logr = signal*logr\n",
    "    return (abs(port_logr.sum()), signal)\n",
    "\n",
    "def Rule3(param):\n",
    "    # Rule 3: EMA and EMA\n",
    "    # Input: Close prices, EMA periods 1 and 2\n",
    "    # Return: training periods accumulated returns\n",
    "    ema1, ema2 = param\n",
    "    s1 = ema(close, ema1)\n",
    "    s2 = ema(close, ema2)\n",
    "    signal = 2*(s1<s2).shift(1)-1\n",
    "    port_logr = signal*logr\n",
    "    return (abs(port_logr.sum()), signal)\n",
    "\n",
    "def Rule4(param):\n",
    "    # Rule 4: DEMA and MA\n",
    "    dema1, ma2 = param\n",
    "    s1 = DEMA(close, dema1)\n",
    "    s2 = close.rolling(ma2).mean()\n",
    "    signal = 2*(s1<s2).shift(1)-1\n",
    "    port_logr = signal*logr\n",
    "    return (abs(port_logr.sum()), signal)\n",
    "\n",
    "def Rule5(param):\n",
    "    # Rule 5: DEMA and DEMA\n",
    "    dema1, dema2 = param\n",
    "    s1 = DEMA(close, dema1)\n",
    "    s2 = DEMA(close, dema2)\n",
    "    signal = 2*(s1<s2).shift(1)-1\n",
    "    port_logr = signal*logr\n",
    "    return (abs(port_logr.sum()), signal)\n",
    "\n",
    "def Rule6(param):\n",
    "    # Rule 6: TEMA and ma crossovers\n",
    "    tema1, ma2 = param\n",
    "    s1 = TEMA(close, tema1)\n",
    "    s2 = close.rolling(ma2).mean()\n",
    "    signal = 2*(s1<s2).shift(1)-1\n",
    "    port_logr = signal*logr\n",
    "    return (abs(port_logr.sum()), signal)\n",
    "\n",
    "def Rule7(param):\n",
    "    stoch1, stochma2 = param\n",
    "    s1 = stoch(high, low, close, stoch1)\n",
    "    s2 = s1.rolling(stochma2, min_periods=0).mean()\n",
    "    signal = 2*(s1<s2).shift(1)-1\n",
    "    port_logr = signal*logr\n",
    "    return (abs(port_logr.sum()), signal)\n",
    "\n",
    "def Rule8(param):\n",
    "    vortex1, vortex2 = param\n",
    "    s1 = vortex_indicator_pos(high, low, close, vortex1)\n",
    "    s2 = vortex_indicator_neg(high, low, close, vortex2)\n",
    "    signal = 2*(s1<s2).shift(1)-1\n",
    "    port_logr = signal*logr\n",
    "    return (abs(port_logr.sum()), signal)\n",
    "\n",
    "def Rule9(param):\n",
    "    p1, p2 = param\n",
    "    s1 = ichimoku_a(high, low, n1=p1, n2=round((p1+p2)/2))\n",
    "    s2 = ichimoku_b(high, low, n2=round((p1+p2)/2), n3=p2)\n",
    "    s3 = close\n",
    "    signal = (-1*((s3>s1) & (s3>s2))+1*((s3<s2) & (s3<s1))).shift(1)\n",
    "    port_logr = signal*logr\n",
    "    return (abs(port_logr.sum()), signal)\n",
    "\n",
    "# Type 2 Rules:\n",
    "# > RSI\n",
    "# > CCI *High must be greater than low\n",
    "\n",
    "def Rule10(param):\n",
    "    rsi1, c2 = param\n",
    "    s1 = rsi(close, rsi1)\n",
    "    s2 = c2\n",
    "    signal = 2*(s1<s2).shift(1)-1\n",
    "    port_logr = signal*logr\n",
    "    return (abs(port_logr.sum()), signal)\n",
    "\n",
    "def Rule11(param):\n",
    "    cci1, c2 = param\n",
    "    s1 = cci(high, low, close, cci1)\n",
    "    s2 = c2\n",
    "    signal = 2*(s1<s2).shift(1)-1\n",
    "    port_logr = signal*logr\n",
    "    return (abs(port_logr.sum()), signal)\n",
    "\n",
    "\n",
    "# Type 3 Rules:\n",
    "# > RSI\n",
    "# > CCI\n",
    "# ** High must be greater than low\n",
    "\n",
    "def Rule12(param):\n",
    "    rsi1, hl, ll = param\n",
    "    s1 = rsi(close, rsi1)\n",
    "    signal = (-1*(s1>hl)+1*(s1<ll)).shift(1)\n",
    "    port_logr = signal*logr\n",
    "    return (abs(port_logr.sum()), signal)\n",
    "\n",
    "def Rule13(param):\n",
    "    cci1, hl, ll = param\n",
    "    s1 = cci(high, low, close, cci1)\n",
    "    signal = (-1*(s1>hl)+1*(s1<ll)).shift(1)\n",
    "    port_logr = signal*logr\n",
    "    return (abs(port_logr.sum()), signal)\n",
    "\n",
    "\n",
    "# Type 4 Rules:\n",
    "# > Bollinger-bands high, low\n",
    "# > keltner_channel\n",
    "# > donchian_channel\n",
    "# > ichimoko a and b\n",
    "\n",
    "def Rule14(period):\n",
    "    s1 = keltner_channel_hband(high, low, close, n=period)\n",
    "    s2 = keltner_channel_lband(high, low, close, n=period)\n",
    "    s3 = close\n",
    "    signal = (-1*(s3>s1)+1*(s3<s2)).shift(1)\n",
    "    port_logr = signal*logr\n",
    "    return (abs(port_logr.sum()), signal)\n",
    "\n",
    "def Rule15(period):\n",
    "    s1 = donchian_channel_hband(close, n=period)\n",
    "    s2 = donchian_channel_hband(close, n=period)\n",
    "    s3 = close\n",
    "    signal = (-1*(s3>s1)+1*(s3<s2)).shift(1)\n",
    "    port_logr = signal*logr\n",
    "    return (abs(port_logr.sum()), signal)\n",
    "\n",
    "def Rule16(period):\n",
    "    s1 = bollinger_hband(close, n=period)\n",
    "    s2 = bollinger_lband(close, n=period)\n",
    "    s3 = close\n",
    "    signal = (-1*(s3>s1)+1*(s3<s2)).shift(1)\n",
    "    port_logr = signal*logr\n",
    "    return (abs(port_logr.sum()), signal)\n"
   ]
  },
  {
   "cell_type": "code",
   "execution_count": 3,
   "metadata": {},
   "outputs": [
    {
     "data": {
      "text/html": [
       "<div>\n",
       "<style scoped>\n",
       "    .dataframe tbody tr th:only-of-type {\n",
       "        vertical-align: middle;\n",
       "    }\n",
       "\n",
       "    .dataframe tbody tr th {\n",
       "        vertical-align: top;\n",
       "    }\n",
       "\n",
       "    .dataframe thead th {\n",
       "        text-align: right;\n",
       "    }\n",
       "</style>\n",
       "<table border=\"1\" class=\"dataframe\">\n",
       "  <thead>\n",
       "    <tr style=\"text-align: right;\">\n",
       "      <th></th>\n",
       "      <th>Open</th>\n",
       "      <th>High</th>\n",
       "      <th>Low</th>\n",
       "      <th>Close</th>\n",
       "    </tr>\n",
       "  </thead>\n",
       "  <tbody>\n",
       "    <tr>\n",
       "      <th>0</th>\n",
       "      <td>1.14574</td>\n",
       "      <td>1.14574</td>\n",
       "      <td>1.14501</td>\n",
       "      <td>1.14502</td>\n",
       "    </tr>\n",
       "    <tr>\n",
       "      <th>1</th>\n",
       "      <td>1.14502</td>\n",
       "      <td>1.14510</td>\n",
       "      <td>1.14483</td>\n",
       "      <td>1.14501</td>\n",
       "    </tr>\n",
       "    <tr>\n",
       "      <th>2</th>\n",
       "      <td>1.14501</td>\n",
       "      <td>1.14532</td>\n",
       "      <td>1.14488</td>\n",
       "      <td>1.14496</td>\n",
       "    </tr>\n",
       "    <tr>\n",
       "      <th>3</th>\n",
       "      <td>1.14497</td>\n",
       "      <td>1.14528</td>\n",
       "      <td>1.14495</td>\n",
       "      <td>1.14528</td>\n",
       "    </tr>\n",
       "    <tr>\n",
       "      <th>4</th>\n",
       "      <td>1.14530</td>\n",
       "      <td>1.14552</td>\n",
       "      <td>1.14516</td>\n",
       "      <td>1.14539</td>\n",
       "    </tr>\n",
       "  </tbody>\n",
       "</table>\n",
       "</div>"
      ],
      "text/plain": [
       "      Open     High      Low    Close\n",
       "0  1.14574  1.14574  1.14501  1.14502\n",
       "1  1.14502  1.14510  1.14483  1.14501\n",
       "2  1.14501  1.14532  1.14488  1.14496\n",
       "3  1.14497  1.14528  1.14495  1.14528\n",
       "4  1.14530  1.14552  1.14516  1.14539"
      ]
     },
     "execution_count": 3,
     "metadata": {},
     "output_type": "execute_result"
    },
    {
     "data": {
      "text/plain": [
       "<matplotlib.axes._subplots.AxesSubplot at 0x11fc1ea90>"
      ]
     },
     "execution_count": 3,
     "metadata": {},
     "output_type": "execute_result"
    },
    {
     "data": {
      "image/png": "[encoded data removed]",
      "text/plain": [
       "<Figure size 432x288 with 1 Axes>"
      ]
     },
     "metadata": {
      "needs_background": "light"
     },
     "output_type": "display_data"
    }
   ],
   "source": [
    "data = pd.read_csv(\"EURUSD_M5.csv\")\n",
    "data = data[['Open', 'High', 'Low', 'Close']]\n",
    "\n",
    "# data = pd.read_csv('EUR_USD_daily.csv')\n",
    "# data = data.rename(columns = {'Price':'Close'})\n",
    "# data = data.reindex(index=data.index[::-1])\n",
    "# data.reset_index(drop=True, inplace = True)\n",
    "data.head()\n",
    "data.Close.plot()"
   ]
  },
  {
   "cell_type": "code",
   "execution_count": 4,
   "metadata": {},
   "outputs": [],
   "source": [
    "split = len(data)//2\n",
    "X_train = data.loc[:split-1]\n",
    "X_test = data.loc[split:]"
   ]
  },
  {
   "cell_type": "markdown",
   "metadata": {},
   "source": [
    "## Tuning parameter for the Rules using Training data"
   ]
  },
  {
   "cell_type": "code",
   "execution_count": 5,
   "metadata": {},
   "outputs": [],
   "source": [
    "close = X_train.Close\n",
    "high = X_train.High\n",
    "low = X_train.Low\n",
    "logr = np.log(close/close.shift(1))\n",
    "\n",
    "periods = [1, 3, 5, 7, 11, 15, 19, 23, 27, 35, 41, 50, 61]\n",
    "type1 = [Rule1, Rule2, Rule3, Rule4, Rule5, Rule6, Rule7, Rule8, Rule9]\n",
    "type1_param = []\n",
    "type1_score = []\n",
    "for rule in type1:\n",
    "    n = len(periods)\n",
    "    best = -1\n",
    "    for i in range(n):\n",
    "        for j in range(i, n):\n",
    "            score = rule((periods[i], periods[j]))[0]\n",
    "            if score>best:\n",
    "                best = score\n",
    "                best_param = (periods[i], periods[j])\n",
    "    type1_param.append(best_param)\n",
    "    type1_score.append(best)"
   ]
  },
  {
   "cell_type": "code",
   "execution_count": 6,
   "metadata": {},
   "outputs": [],
   "source": [
    "rsi_limits = list(range(0,101,5))\n",
    "cci_limits = list(range(-120, 121, 20))\n",
    "limits = [rsi_limits, cci_limits]\n",
    "\n",
    "type2 = [Rule10, Rule11]\n",
    "type2_param = []\n",
    "type2_score = []\n",
    "\n",
    "for i in range(len(type2)):\n",
    "    rule = type2[i]\n",
    "    params = limits[i]\n",
    "    n = len(params)\n",
    "    best = -1\n",
    "    for period in periods:\n",
    "        for lim in params:\n",
    "            score = rule((period, lim))[0]\n",
    "            if score>best:\n",
    "                best = score\n",
    "                best_param = (period, lim)\n",
    "    type2_param.append(best_param)\n",
    "    type2_score.append(best)"
   ]
  },
  {
   "cell_type": "code",
   "execution_count": 7,
   "metadata": {},
   "outputs": [],
   "source": [
    "type3 = [Rule12, Rule13]\n",
    "type3_param = []\n",
    "type3_score = []\n",
    "\n",
    "for i in range(len(type3)):\n",
    "    rule = type3[i]\n",
    "    params = limits[i]\n",
    "    n = len(params)\n",
    "    best = -1\n",
    "    for period in periods:\n",
    "        for lb in range(n-1):\n",
    "            for ub in range(lb+1, n):\n",
    "                score = rule((period, params[ub], params[lb]))[0]\n",
    "                if score>best:\n",
    "                    best = score\n",
    "                    best_param = (period, params[ub], params[lb])\n",
    "    type3_param.append(best_param)\n",
    "    type3_score.append(best)"
   ]
  },
  {
   "cell_type": "code",
   "execution_count": 8,
   "metadata": {},
   "outputs": [],
   "source": [
    "type4 = [Rule14, Rule15, Rule16]\n",
    "type4_param = []\n",
    "type4_score = []\n",
    "\n",
    "for rule in type4:\n",
    "    best = -1\n",
    "    for i in periods:\n",
    "        score = rule(i)[0]\n",
    "        if score>best:\n",
    "            best = score\n",
    "            best_param = i\n",
    "    type4_param.append(best_param)\n",
    "    type4_score.append(best)"
   ]
  },
  {
   "cell_type": "code",
   "execution_count": 9,
   "metadata": {},
   "outputs": [
    {
     "data": {
      "text/plain": [
       "([(1, 3), (1, 3), (1, 5), (3, 3), (1, 11), (1, 3), (3, 19), (1, 1), (3, 3)],\n",
       " [0.23131921219033605,\n",
       "  0.23158312295131436,\n",
       "  0.24565392029888475,\n",
       "  0.2425351548940243,\n",
       "  0.21888473600860367,\n",
       "  0.23158312295131436,\n",
       "  0.24820775933953798,\n",
       "  0.22241672573024326,\n",
       "  0.23367876170060117])"
      ]
     },
     "execution_count": 9,
     "metadata": {},
     "output_type": "execute_result"
    },
    {
     "data": {
      "text/plain": [
       "([(5, 50), (3, 0)], [0.24565392029888475, 0.20535359073958134])"
      ]
     },
     "execution_count": 9,
     "metadata": {},
     "output_type": "execute_result"
    },
    {
     "data": {
      "text/plain": [
       "([(5, 50, 45), (3, 20, 0)], [0.24162507512085596, 0.20358883068460246])"
      ]
     },
     "execution_count": 9,
     "metadata": {},
     "output_type": "execute_result"
    },
    {
     "data": {
      "text/plain": [
       "([50, 3, 50], [0.14263784592956308, 0.08479994490089585, 0.08351537401150128])"
      ]
     },
     "execution_count": 9,
     "metadata": {},
     "output_type": "execute_result"
    }
   ],
   "source": [
    "type1_param, type1_score\n",
    "type2_param, type2_score\n",
    "type3_param, type3_score\n",
    "type4_param, type4_score"
   ]
  },
  {
   "cell_type": "code",
   "execution_count": 10,
   "metadata": {},
   "outputs": [],
   "source": [
    "All_Rules = type1+type2+type3+type4\n",
    "Rule_params = type1_param+type2_param+type3_param+type4_param\n",
    "Rule_scores = type1_score+type2_score+type3_score+type4_score"
   ]
  },
  {
   "cell_type": "code",
   "execution_count": 11,
   "metadata": {},
   "outputs": [
    {
     "name": "stdout",
     "output_type": "stream",
     "text": [
      "Training Rule1 score is: 0.231\n",
      "Training Rule2 score is: 0.232\n",
      "Training Rule3 score is: 0.246\n",
      "Training Rule4 score is: 0.243\n",
      "Training Rule5 score is: 0.219\n",
      "Training Rule6 score is: 0.232\n",
      "Training Rule7 score is: 0.248\n",
      "Training Rule8 score is: 0.222\n",
      "Training Rule9 score is: 0.234\n",
      "Training Rule10 score is: 0.246\n",
      "Training Rule11 score is: 0.205\n",
      "Training Rule12 score is: 0.242\n",
      "Training Rule13 score is: 0.204\n",
      "Training Rule14 score is: 0.143\n",
      "Training Rule15 score is: 0.085\n",
      "Training Rule16 score is: 0.084\n"
     ]
    }
   ],
   "source": [
    "for i in range(len(All_Rules)):\n",
    "    print('Training Rule{} score is: {:.3f}'.format(i+1, Rule_scores[i]))"
   ]
  },
  {
   "cell_type": "code",
   "execution_count": 12,
   "metadata": {
    "scrolled": true
   },
   "outputs": [
    {
     "name": "stdout",
     "output_type": "stream",
     "text": [
      "Testing Rule1 score is: 0.260\n",
      "Testing Rule2 score is: 0.257\n",
      "Testing Rule3 score is: 0.190\n",
      "Testing Rule4 score is: 0.226\n",
      "Testing Rule5 score is: 0.248\n",
      "Testing Rule6 score is: 0.257\n",
      "Testing Rule7 score is: 0.278\n",
      "Testing Rule8 score is: 0.181\n",
      "Testing Rule9 score is: 0.256\n",
      "Testing Rule10 score is: 0.190\n",
      "Testing Rule11 score is: 0.211\n",
      "Testing Rule12 score is: 0.196\n",
      "Testing Rule13 score is: 0.204\n",
      "Testing Rule14 score is: 0.098\n",
      "Testing Rule15 score is: 0.126\n",
      "Testing Rule16 score is: 0.073\n"
     ]
    }
   ],
   "source": [
    "close = X_test.Close\n",
    "high = X_test.High\n",
    "low = X_test.Low\n",
    "logr = np.log(close/close.shift(1))\n",
    "\n",
    "for i in range(len(All_Rules)):\n",
    "    rule = All_Rules[i]\n",
    "    score = rule(Rule_params[i])[0]\n",
    "    print('Testing Rule{} score is: {:.3f}'.format(i+1, score))"
   ]
  },
  {
   "cell_type": "code",
   "execution_count": 13,
   "metadata": {},
   "outputs": [],
   "source": [
    "close = X_train.Close\n",
    "high = X_train.High\n",
    "low = X_train.Low\n",
    "logr = np.log(close/close.shift(1))\n",
    "\n",
    "train_df = pd.DataFrame({'logr': logr})\n",
    "for i in range(len(All_Rules)):\n",
    "    train_df['Rule'+str(i+1)] = All_Rules[i](Rule_params[i])[1]\n",
    "train_df.dropna(inplace = True)\n",
    "# train_df.head()"
   ]
  },
  {
   "cell_type": "code",
   "execution_count": 14,
   "metadata": {},
   "outputs": [],
   "source": [
    "close = X_test.Close\n",
    "high = X_test.High\n",
    "low = X_test.Low\n",
    "logr = np.log(close/close.shift(1))\n",
    "\n",
    "test_df = pd.DataFrame({'logr': logr})\n",
    "for i in range(len(All_Rules)):\n",
    "    test_df['Rule'+str(i+1)] = All_Rules[i](Rule_params[i])[1]\n",
    "test_df.dropna(inplace = True)\n",
    "# test_df.head()"
   ]
  },
  {
   "cell_type": "markdown",
   "metadata": {},
   "source": [
    "# Benchmark Models"
   ]
  },
  {
   "cell_type": "code",
   "execution_count": 15,
   "metadata": {},
   "outputs": [],
   "source": [
    "def evaluate_train(position):\n",
    "    port_r_train = logr_train*position\n",
    "    train_score = port_r_train.sum()\n",
    "    print(\"The maximum position is {:.3f}, the mean postiion is {:3f}.\".format(position.max(), abs(position).mean()))\n",
    "    print(\"Training period (35 weeks) return: {:.2f}%\".format(train_score*100))\n",
    "    print(\"Maximum drawdown is: {:.3f}%\".format(min(port_r_train.cumsum())*100))\n",
    "    sr_train = port_r_train.mean()/port_r_train.std()\n",
    "    print(\"SR ratio is: {:.3f}\".format(sr_train*(252*24*12)**0.5))\n",
    "    \n",
    "def evaluate_test(position):\n",
    "    port_r_test = logr_test*position\n",
    "    test_score = port_r_test.sum()\n",
    "    print(\"The maximum position is {:.3f}, the mean postiion is {:3f}.\".format(position.max(), abs(position).mean()))\n",
    "    print(\"Testing period (35 weeks) return: {:.2f}%\".format(test_score*100))\n",
    "    print(\"Maximum drawdown is: {:.3f}%\".format(min(port_r_test.cumsum())*100))\n",
    "    sr_test = port_r_test.mean()/port_r_test.std()*(252*24*12)**0.5\n",
    "    print(\"SR ratio is: {:.3f}\".format(sr_test))"
   ]
  },
  {
   "cell_type": "code",
   "execution_count": null,
   "metadata": {},
   "outputs": [],
   "source": []
  },
  {
   "cell_type": "code",
   "execution_count": 16,
   "metadata": {},
   "outputs": [],
   "source": [
    "X_train_df = train_df.copy()\n",
    "X_test_df = test_df.copy()\n",
    "logr_train = X_train_df['logr']\n",
    "logr_test = X_test_df['logr']\n",
    "X_train_df.drop(['logr'], axis = 1, inplace = True)\n",
    "X_test_df.drop(['logr'], axis = 1, inplace = True)\n",
    "y_train = 2*(logr_train>0)-1\n",
    "y_test = 2*(logr_test>0)-1"
   ]
  },
  {
   "cell_type": "code",
   "execution_count": 17,
   "metadata": {},
   "outputs": [
    {
     "name": "stdout",
     "output_type": "stream",
     "text": [
      "simple buy and hold\n",
      "The maximum position is 1.000, the mean postiion is 1.000000.\n",
      "Training period (35 weeks) return: -1.46%\n",
      "Maximum drawdown is: -2.987%\n",
      "SR ratio is: -0.428\n",
      "\n",
      "The maximum position is 1.000, the mean postiion is 1.000000.\n",
      "Testing period (35 weeks) return: -0.49%\n",
      "Maximum drawdown is: -3.662%\n",
      "SR ratio is: -0.159\n"
     ]
    }
   ],
   "source": [
    "print(\"simple buy and hold\")\n",
    "position = logr_train*0+1\n",
    "evaluate_train(position)\n",
    "print()\n",
    "position = logr_test*0+1\n",
    "evaluate_test(position)"
   ]
  },
  {
   "cell_type": "code",
   "execution_count": 18,
   "metadata": {},
   "outputs": [
    {
     "name": "stdout",
     "output_type": "stream",
     "text": [
      "simple sell and hold\n",
      "The maximum position is -1.000, the mean postiion is 1.000000.\n",
      "Training period (35 weeks) return: 1.46%\n",
      "Maximum drawdown is: -1.037%\n",
      "SR ratio is: 0.428\n",
      "\n",
      "The maximum position is -1.000, the mean postiion is 1.000000.\n",
      "Testing period (35 weeks) return: 0.49%\n",
      "Maximum drawdown is: -0.234%\n",
      "SR ratio is: 0.159\n"
     ]
    }
   ],
   "source": [
    "print(\"simple sell and hold\")\n",
    "position = logr_train*0-1\n",
    "evaluate_train(position)\n",
    "print()\n",
    "position = logr_test*0-1\n",
    "evaluate_test(position)"
   ]
  },
  {
   "cell_type": "code",
   "execution_count": 19,
   "metadata": {},
   "outputs": [
    {
     "name": "stdout",
     "output_type": "stream",
     "text": [
      "              precision    recall  f1-score   support\n",
      "\n",
      "          -1       0.71      0.83      0.77     34749\n",
      "           1       0.51      0.35      0.41     17810\n",
      "\n",
      "    accuracy                           0.67     52559\n",
      "   macro avg       0.61      0.59      0.59     52559\n",
      "weighted avg       0.64      0.67      0.65     52559\n",
      "\n",
      "              precision    recall  f1-score   support\n",
      "\n",
      "          -1       0.70      0.84      0.76     34749\n",
      "           1       0.48      0.28      0.35     17810\n",
      "\n",
      "    accuracy                           0.65     52559\n",
      "   macro avg       0.59      0.56      0.56     52559\n",
      "weighted avg       0.62      0.65      0.62     52559\n",
      "\n"
     ]
    }
   ],
   "source": [
    "from sklearn.metrics import classification_report\n",
    "\n",
    "from sklearn.ensemble import RandomForestClassifier\n",
    "rf = RandomForestClassifier(n_estimators=100, max_depth=2, random_state=0)\n",
    "_ = rf.fit(X_train_df, y_train) \n",
    "print(classification_report(y_test, rf.predict(X_test_df)))\n",
    "\n",
    "from sklearn import svm\n",
    "svc = svm.LinearSVC()\n",
    "_ = svc.fit(X_train_df, y_train) \n",
    "print(classification_report(y_test, svc.predict(X_test_df)))"
   ]
  },
  {
   "cell_type": "code",
   "execution_count": 20,
   "metadata": {},
   "outputs": [
    {
     "name": "stdout",
     "output_type": "stream",
     "text": [
      "Random Forest Model\n",
      "The maximum position is 1.000, the mean postiion is 1.000000.\n",
      "Training period (35 weeks) return: 24.16%\n",
      "Maximum drawdown is: -0.065%\n",
      "SR ratio is: 7.090\n",
      "\n",
      "The maximum position is 1.000, the mean postiion is 1.000000.\n",
      "Testing period (35 weeks) return: 24.08%\n",
      "Maximum drawdown is: -0.158%\n",
      "SR ratio is: 7.768\n"
     ]
    }
   ],
   "source": [
    "print(\"Random Forest Model\")\n",
    "position = rf.predict(X_train_df)\n",
    "evaluate_train(position)\n",
    "print()\n",
    "position = rf.predict(X_test_df)\n",
    "evaluate_test(position)"
   ]
  },
  {
   "cell_type": "code",
   "execution_count": 21,
   "metadata": {},
   "outputs": [
    {
     "name": "stdout",
     "output_type": "stream",
     "text": [
      "SVC model\n",
      "The maximum position is 1.000, the mean postiion is 1.000000.\n",
      "Training period (35 weeks) return: 6.65%\n",
      "Maximum drawdown is: -0.369%\n",
      "SR ratio is: 1.951\n",
      "\n",
      "The maximum position is 1.000, the mean postiion is 1.000000.\n",
      "Testing period (35 weeks) return: 10.65%\n",
      "Maximum drawdown is: -0.101%\n",
      "SR ratio is: 3.434\n"
     ]
    }
   ],
   "source": [
    "print(\"SVC model\")\n",
    "position = svc.predict(X_train_df)\n",
    "evaluate_train(position)\n",
    "print()\n",
    "position = svc.predict(X_test_df)\n",
    "evaluate_test(position)"
   ]
  },
  {
   "cell_type": "markdown",
   "metadata": {},
   "source": [
    "## Genetic Algorithm to Find the Optimal Combination of Rules"
   ]
  },
  {
   "cell_type": "code",
   "execution_count": 22,
   "metadata": {},
   "outputs": [],
   "source": [
    "def cal_pop_fitness(equation_inputs, pop, opt = 0):\n",
    "    # Calculating the fitness value of each solution in the current population.\n",
    "    # The fitness function calulates the sum of products between each input and its corresponding weight.\n",
    "    # fitness = np.sum(pop*equation_inputs, axis=1)\n",
    "    logr = equation_inputs[:,0] # n,\n",
    "    positions = pop@equation_inputs[:,1:].T # pop 8x16, 16xn --- 8xn\n",
    "    port_r = (positions*logr).astype(np.float64)\n",
    "    \n",
    "    # 1 Fitness score is calculated as: Total return/total money\n",
    "    # Interpreted as return per dollar invested\n",
    "    if opt == 0:\n",
    "        fitness = np.sum(port_r, axis = 1)/np.max(abs(positions),1)\n",
    "    \n",
    "    # 2 Fitness score used to minimize losses\n",
    "    elif opt == 1:\n",
    "        port_r[port_r>0] = 0\n",
    "        fitness = np.sum(port_r, axis = 1)/np.max(abs(positions),1)\n",
    "        \n",
    "    # 3 Fitness score is calculated as the SR ratio\n",
    "    elif opt == 2:\n",
    "        fitness = np.mean(port_r, axis = 1)/np.std(port_r, axis = 1)/(-np.sum(port_r[port_r<0]))\n",
    "    return fitness"
   ]
  },
  {
   "cell_type": "code",
   "execution_count": 23,
   "metadata": {},
   "outputs": [],
   "source": [
    "def GA_module(training_df, optimizing_selection=0, sol_per_pop=8, num_parents_mating=4, num_generations = 200):\n",
    "    \"\"\"\n",
    "    Genetic algorithm parameters:\n",
    "        Mating pool size\n",
    "        Population size\n",
    "    \"\"\"\n",
    "    #Inputs of the equation.\n",
    "    equation_inputs = training_df.values\n",
    "    # Number of the weights we are looking to optimize.\n",
    "    num_weights = training_df.shape[1]-1\n",
    "\n",
    "    # Defining the population size.\n",
    "    pop_size = (sol_per_pop,num_weights) \n",
    "    # The population will have sol_per_pop chromosome \n",
    "    # where each chromosome has num_weights genes.\n",
    "    \n",
    "    # Creating the initial population.\n",
    "    new_population = np.random.uniform(low=-1.0, high=1.0, size=pop_size)\n",
    "    # print(new_population)\n",
    "\n",
    "    best_outputs = []\n",
    "    \n",
    "    for generation in range(num_generations):\n",
    "    #     print(\"Generation : \", generation)\n",
    "        # Measuring the fitness of each chromosome in the population.\n",
    "        fitness = cal_pop_fitness(equation_inputs, new_population, optimizing_selection)\n",
    "\n",
    "        best_outputs.append(np.max(fitness))\n",
    "\n",
    "        # Selecting the best parents in the population for mating.\n",
    "        parents = ga.select_mating_pool(new_population, fitness, \n",
    "                                          num_parents_mating)\n",
    "\n",
    "        # Generating next generation using crossover.\n",
    "        offspring_crossover = ga.crossover(parents,\n",
    "                                           offspring_size=(pop_size[0]-parents.shape[0], num_weights))\n",
    "\n",
    "        # Adding some variations to the offspring using mutation.\n",
    "        offspring_mutation = ga.mutation(offspring_crossover, num_mutations=2)\n",
    "\n",
    "        # Creating the new population based on the parents and offspring.\n",
    "        new_population[0:parents.shape[0], :] = parents\n",
    "        new_population[parents.shape[0]:, :] = offspring_mutation\n",
    "\n",
    "    # Getting the best solution after iterating finishing all generations.\n",
    "    # At first, the fitness is calculated for each solution in the final generation.\n",
    "    fitness = cal_pop_fitness(equation_inputs, new_population, optimizing_selection)\n",
    "    # Then return the index of that solution corresponding to the best fitness.\n",
    "    best_match_idx = np.where(fitness == np.max(fitness))\n",
    "    \n",
    "    if optimizing_selection == 0:\n",
    "        ylabel = \"Return On Investment\"\n",
    "    elif optimizing_selection == 1:\n",
    "        ylabel = 'Sum Negative Returns'\n",
    "    elif optimizing_selection == 2:\n",
    "        ylabel = 'Sharpe Ratio'\n",
    "        \n",
    "    plt.plot(best_outputs)\n",
    "    plt.xlabel(\"Iteration\")\n",
    "    plt.ylabel(ylabel)\n",
    "    plt.show()\n",
    "    return new_population[best_match_idx]"
   ]
  },
  {
   "cell_type": "code",
   "execution_count": 24,
   "metadata": {},
   "outputs": [
    {
     "data": {
      "image/png": "[encoded data removed]",
      "text/plain": [
       "<Figure size 432x288 with 1 Axes>"
      ]
     },
     "metadata": {
      "needs_background": "light"
     },
     "output_type": "display_data"
    },
    {
     "name": "stdout",
     "output_type": "stream",
     "text": [
      "Optimal weights of rules using genetic algorithm:\n",
      "Rule1: 0.363\n",
      "Rule2: -0.524\n",
      "Rule3: 0.895\n",
      "Rule4: -0.217\n",
      "Rule5: -0.085\n",
      "Rule6: 0.459\n",
      "Rule7: 0.069\n",
      "Rule8: 40.404\n",
      "Rule9: -0.014\n",
      "Rule10: 0.113\n",
      "Rule11: 0.582\n",
      "Rule12: 0.581\n",
      "Rule13: 0.231\n",
      "Rule14: 0.755\n",
      "Rule15: 0.797\n",
      "Rule16: 0.447\n"
     ]
    }
   ],
   "source": [
    "max_return_weights = GA_module(train_df, optimizing_selection=0, sol_per_pop=8, num_parents_mating=4, num_generations = 500)\n",
    "\n",
    "print(\"Optimal weights of rules using genetic algorithm:\")\n",
    "for i in range(max_return_weights.shape[1]):\n",
    "    print(\"Rule{:}: {:.3f}\".format(i+1, max_return_weights[0, i]))"
   ]
  },
  {
   "cell_type": "code",
   "execution_count": 25,
   "metadata": {},
   "outputs": [
    {
     "data": {
      "text/plain": [
       "52559"
      ]
     },
     "execution_count": 25,
     "metadata": {},
     "output_type": "execute_result"
    },
    {
     "name": "stdout",
     "output_type": "stream",
     "text": [
      "The maximum position is 1.000, the mean postiion is 0.937088.\n",
      "Training period (35 weeks) return: 21.69%\n",
      "Maximum drawdown is: -0.650%\n",
      "SR ratio is: 6.743\n"
     ]
    }
   ],
   "source": [
    "position = (train_df.values[:, 1:]@max_return_weights.T).reshape(train_df.shape[0],)\n",
    "position /= np.max(abs(position))\n",
    "len(position)\n",
    "evaluate_train(position)"
   ]
  },
  {
   "cell_type": "code",
   "execution_count": 26,
   "metadata": {},
   "outputs": [
    {
     "name": "stdout",
     "output_type": "stream",
     "text": [
      "The maximum position is 1.000, the mean postiion is 0.927526.\n",
      "Testing period (35 weeks) return: 17.75%\n",
      "Maximum drawdown is: -0.163%\n",
      "SR ratio is: 6.088\n"
     ]
    }
   ],
   "source": [
    "position = (test_df.values[:, 1:]@max_return_weights.T).reshape(test_df.shape[0],)\n",
    "position /= np.max(abs(position))\n",
    "evaluate_test(position)"
   ]
  },
  {
   "cell_type": "code",
   "execution_count": 27,
   "metadata": {},
   "outputs": [
    {
     "data": {
      "image/png": "[encoded data removed]",
      "text/plain": [
       "<Figure size 432x288 with 1 Axes>"
      ]
     },
     "metadata": {
      "needs_background": "light"
     },
     "output_type": "display_data"
    },
    {
     "name": "stdout",
     "output_type": "stream",
     "text": [
      "Optimal weights of rules using genetic algorithm:\n",
      "Rule1: -0.743\n",
      "Rule2: -0.227\n",
      "Rule3: 0.389\n",
      "Rule4: -0.193\n",
      "Rule5: 0.547\n",
      "Rule6: 0.239\n",
      "Rule7: -0.292\n",
      "Rule8: 5.415\n",
      "Rule9: 0.893\n",
      "Rule10: -0.592\n",
      "Rule11: 0.135\n",
      "Rule12: 0.047\n",
      "Rule13: 0.480\n",
      "Rule14: 0.653\n",
      "Rule15: -0.734\n",
      "Rule16: 7.395\n"
     ]
    }
   ],
   "source": [
    "max_SR_weights = GA_module(train_df, optimizing_selection=2, sol_per_pop=10, num_parents_mating=6, num_generations = 200)\n",
    "\n",
    "print(\"Optimal weights of rules using genetic algorithm:\")\n",
    "for i in range(max_SR_weights.shape[1]):\n",
    "    print(\"Rule{:}: {:.3f}\".format(i+1, max_SR_weights[0, i]))"
   ]
  },
  {
   "cell_type": "code",
   "execution_count": 28,
   "metadata": {},
   "outputs": [
    {
     "name": "stdout",
     "output_type": "stream",
     "text": [
      "The maximum position is 0.958, the mean postiion is 0.440749.\n",
      "Training period (35 weeks) return: 11.43%\n",
      "Maximum drawdown is: -0.484%\n",
      "SR ratio is: 7.404\n"
     ]
    }
   ],
   "source": [
    "position = (train_df.values[:, 1:]@max_SR_weights.T).reshape(train_df.shape[0],)\n",
    "position /= np.max(abs(position))\n",
    "evaluate_train(position)\n",
    "port_r_train = logr_train*position"
   ]
  },
  {
   "cell_type": "code",
   "execution_count": 29,
   "metadata": {},
   "outputs": [
    {
     "name": "stdout",
     "output_type": "stream",
     "text": [
      "The maximum position is 0.957, the mean postiion is 0.348961.\n",
      "Testing period (35 weeks) return: 9.68%\n",
      "Maximum drawdown is: -0.034%\n",
      "SR ratio is: 6.679\n"
     ]
    }
   ],
   "source": [
    "position = (test_df.values[:, 1:]@max_SR_weights.T).reshape(test_df.shape[0],)\n",
    "position /= np.max(abs(position))\n",
    "port_r_test = test_df.logr.values*position\n",
    "evaluate_test(position)\n",
    "port_r_test = logr_test*position"
   ]
  },
  {
   "cell_type": "code",
   "execution_count": 30,
   "metadata": {},
   "outputs": [
    {
     "data": {
      "text/plain": [
       "[<matplotlib.lines.Line2D at 0x1a28841110>]"
      ]
     },
     "execution_count": 30,
     "metadata": {},
     "output_type": "execute_result"
    },
    {
     "data": {
      "text/plain": [
       "[<matplotlib.lines.Line2D at 0x122cfcd10>]"
      ]
     },
     "execution_count": 30,
     "metadata": {},
     "output_type": "execute_result"
    },
    {
     "data": {
      "image/png": "[encoded data removed]",
      "text/plain": [
       "<Figure size 432x288 with 1 Axes>"
      ]
     },
     "metadata": {
      "needs_background": "light"
     },
     "output_type": "display_data"
    }
   ],
   "source": [
    "plt.plot(range(len(port_r_train)), port_r_train.cumsum())\n",
    "plt.plot(range(len(port_r_test)), port_r_test.cumsum())\n"
   ]
  },
  {
   "cell_type": "code",
   "execution_count": 37,
   "metadata": {},
   "outputs": [],
   "source": [
    "df = pd.DataFrame()\n",
    "# df['train'] = port_r_train.values.cumsum()\n",
    "df['test'] = port_r_test.values.cumsum()\n",
    "df.to_csv('EURUSD.csv')"
   ]
  },
  {
   "cell_type": "code",
   "execution_count": 35,
   "metadata": {},
   "outputs": [],
   "source": [
    "stat = {'return': port_r_test.sum(), 'SR': port_r_test.mean()/port_r_test.std()*(252*24*12)**0.5, \n",
    "        \"MD\": min(port_r_test.cumsum())*100}"
   ]
  },
  {
   "cell_type": "code",
   "execution_count": 36,
   "metadata": {},
   "outputs": [
    {
     "data": {
      "text/plain": [
       "{'MD': -0.034419652041776355,\n",
       " 'SR': 6.679028168647994,\n",
       " 'return': 0.09680819601697117}"
      ]
     },
     "execution_count": 36,
     "metadata": {},
     "output_type": "execute_result"
    }
   ],
   "source": [
    "stat"
   ]
  },
  {
   "cell_type": "code",
   "execution_count": null,
   "metadata": {},
   "outputs": [],
   "source": []
  }
 ],
 "metadata": {
  "kernelspec": {
   "display_name": "Python 3",
   "language": "python",
   "name": "python3"
  },
  "language_info": {
   "codemirror_mode": {
    "name": "ipython",
    "version": 3
   },
   "file_extension": ".py",
   "mimetype": "text/x-python",
   "name": "python",
   "nbconvert_exporter": "python",
   "pygments_lexer": "ipython3",
   "version": "3.7.4"
  }
 },
 "nbformat": 4,
 "nbformat_minor": 2
}
